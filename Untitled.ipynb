{
 "cells": [
  {
   "cell_type": "code",
   "execution_count": null,
   "id": "8ac5582a-3b47-43b0-bf59-46f28f11f99e",
   "metadata": {},
   "outputs": [],
   "source": [
    "pip install spacy"
   ]
  },
  {
   "cell_type": "code",
   "execution_count": null,
   "id": "beedf1e4-0982-4bd1-9adc-a3fcf7a44d8d",
   "metadata": {},
   "outputs": [],
   "source": [
    "import math"
   ]
  },
  {
   "cell_type": "code",
   "execution_count": null,
   "id": "9b76c736-7b50-46a2-bde9-517fc84c2385",
   "metadata": {},
   "outputs": [],
   "source": [
    "age = 40\n",
    "euler_number = 2.718"
   ]
  },
  {
   "cell_type": "code",
   "execution_count": null,
   "id": "47c02130-4105-468e-8bc9-66bcb7a15416",
   "metadata": {},
   "outputs": [],
   "source": [
    "y = 0.042 * age - 1.53\n",
    "z = 1/(1 + math.exp(-y))"
   ]
  },
  {
   "cell_type": "raw",
   "id": "5ae25b8d-1caa-4e13-963b-9bd6e7e46e85",
   "metadata": {},
   "source": [
    "print(f\"Value of y:{y}\")\n",
    "print(f\"\")"
   ]
  },
  {
   "cell_type": "code",
   "execution_count": null,
   "id": "c214b605-8d7e-4ddc-a566-d65d138a9bc5",
   "metadata": {},
   "outputs": [],
   "source": []
  },
  {
   "cell_type": "code",
   "execution_count": 1,
   "id": "5888af35-d150-4827-a53b-c6d17c48ff85",
   "metadata": {},
   "outputs": [],
   "source": [
    "import pandas as pd\n",
    "import numpy as np"
   ]
  },
  {
   "cell_type": "code",
   "execution_count": 1,
   "id": "f440e42d-9289-45d3-b4f0-5870f2063c9b",
   "metadata": {},
   "outputs": [],
   "source": [
    "\n",
    "# # Create the DataFrame\n",
    "# data = {'A': [21, None, 22, 4, None],\n",
    "#         'B': [31, 32, 33, 34, 35],\n",
    "#         'C': [np.nan, np.nan, np.nan, np.nan, np.nan],\n",
    "#         'D': [46, 47, np.nan, 48, 49]}\n",
    "\n",
    "# df = pd.DataFrame(data)\n",
    "import pandas as pd"
   ]
  },
  {
   "cell_type": "code",
   "execution_count": 3,
   "id": "516d4ca8-1326-42e7-884c-1081e96177bc",
   "metadata": {},
   "outputs": [
    {
     "ename": "NameError",
     "evalue": "name 'np' is not defined",
     "output_type": "error",
     "traceback": [
      "\u001b[1;31m---------------------------------------------------------------------------\u001b[0m",
      "\u001b[1;31mNameError\u001b[0m                                 Traceback (most recent call last)",
      "Cell \u001b[1;32mIn[3], line 1\u001b[0m\n\u001b[1;32m----> 1\u001b[0m data_dic \u001b[38;5;241m=\u001b[39m {\u001b[38;5;124m'\u001b[39m\u001b[38;5;124mA\u001b[39m\u001b[38;5;124m'\u001b[39m:[\u001b[38;5;241m21\u001b[39m,\u001b[38;5;28;01mNone\u001b[39;00m,\u001b[38;5;241m22\u001b[39m, \u001b[38;5;241m4\u001b[39m,np\u001b[38;5;241m.\u001b[39mnan],\n\u001b[0;32m      2\u001b[0m             \u001b[38;5;124m'\u001b[39m\u001b[38;5;124mB\u001b[39m\u001b[38;5;124m'\u001b[39m:[\u001b[38;5;241m31\u001b[39m, \u001b[38;5;241m32\u001b[39m, \u001b[38;5;241m33\u001b[39m, \u001b[38;5;241m34\u001b[39m, \u001b[38;5;241m35\u001b[39m],\n\u001b[0;32m      3\u001b[0m             \u001b[38;5;124m'\u001b[39m\u001b[38;5;124mC\u001b[39m\u001b[38;5;124m'\u001b[39m:[np\u001b[38;5;241m.\u001b[39mnan,np\u001b[38;5;241m.\u001b[39mnan,np\u001b[38;5;241m.\u001b[39mnan,np\u001b[38;5;241m.\u001b[39mnan,np\u001b[38;5;241m.\u001b[39mnan],\n\u001b[0;32m      4\u001b[0m             \u001b[38;5;124m'\u001b[39m\u001b[38;5;124mD\u001b[39m\u001b[38;5;124m'\u001b[39m:[\u001b[38;5;241m46\u001b[39m, \u001b[38;5;241m47\u001b[39m, np\u001b[38;5;241m.\u001b[39mnan, \u001b[38;5;241m48\u001b[39m, \u001b[38;5;241m49\u001b[39m]}\n\u001b[0;32m      5\u001b[0m df \u001b[38;5;241m=\u001b[39m pd\u001b[38;5;241m.\u001b[39mDataFrame(data_dic) \n\u001b[0;32m      6\u001b[0m df\n",
      "\u001b[1;31mNameError\u001b[0m: name 'np' is not defined"
     ]
    }
   ],
   "source": [
    "data_dic = {'A':[21,None,22, 4,np.nan],\n",
    "            'B':[31, 32, 33, 34, 35],\n",
    "            'C':[np.nan,np.nan,np.nan,np.nan,np.nan],\n",
    "            'D':[46, 47, np.nan, 48, 49]}\n",
    "df = pd.DataFrame(data_dic) \n",
    "df"
   ]
  },
  {
   "cell_type": "code",
   "execution_count": 25,
   "id": "1fa526b1-ab9b-400b-b40f-9831a1281ab7",
   "metadata": {},
   "outputs": [
    {
     "data": {
      "text/plain": [
       "8"
      ]
     },
     "execution_count": 25,
     "metadata": {},
     "output_type": "execute_result"
    }
   ],
   "source": [
    "df.isna().sum().sum()"
   ]
  },
  {
   "cell_type": "code",
   "execution_count": 29,
   "id": "04e69385-d9b7-4036-aed9-26eecb84507b",
   "metadata": {},
   "outputs": [
    {
     "data": {
      "text/html": [
       "<div>\n",
       "<style scoped>\n",
       "    .dataframe tbody tr th:only-of-type {\n",
       "        vertical-align: middle;\n",
       "    }\n",
       "\n",
       "    .dataframe tbody tr th {\n",
       "        vertical-align: top;\n",
       "    }\n",
       "\n",
       "    .dataframe thead th {\n",
       "        text-align: right;\n",
       "    }\n",
       "</style>\n",
       "<table border=\"1\" class=\"dataframe\">\n",
       "  <thead>\n",
       "    <tr style=\"text-align: right;\">\n",
       "      <th></th>\n",
       "      <th>A</th>\n",
       "      <th>B</th>\n",
       "      <th>C</th>\n",
       "      <th>D</th>\n",
       "    </tr>\n",
       "  </thead>\n",
       "  <tbody>\n",
       "    <tr>\n",
       "      <th>0</th>\n",
       "      <td>21.0</td>\n",
       "      <td>31</td>\n",
       "      <td>NaN</td>\n",
       "      <td>46.0</td>\n",
       "    </tr>\n",
       "    <tr>\n",
       "      <th>1</th>\n",
       "      <td>21.0</td>\n",
       "      <td>32</td>\n",
       "      <td>NaN</td>\n",
       "      <td>47.0</td>\n",
       "    </tr>\n",
       "    <tr>\n",
       "      <th>2</th>\n",
       "      <td>22.0</td>\n",
       "      <td>33</td>\n",
       "      <td>NaN</td>\n",
       "      <td>47.0</td>\n",
       "    </tr>\n",
       "    <tr>\n",
       "      <th>3</th>\n",
       "      <td>4.0</td>\n",
       "      <td>34</td>\n",
       "      <td>NaN</td>\n",
       "      <td>48.0</td>\n",
       "    </tr>\n",
       "    <tr>\n",
       "      <th>4</th>\n",
       "      <td>4.0</td>\n",
       "      <td>35</td>\n",
       "      <td>NaN</td>\n",
       "      <td>49.0</td>\n",
       "    </tr>\n",
       "  </tbody>\n",
       "</table>\n",
       "</div>"
      ],
      "text/plain": [
       "      A   B   C     D\n",
       "0  21.0  31 NaN  46.0\n",
       "1  21.0  32 NaN  47.0\n",
       "2  22.0  33 NaN  47.0\n",
       "3   4.0  34 NaN  48.0\n",
       "4   4.0  35 NaN  49.0"
      ]
     },
     "execution_count": 29,
     "metadata": {},
     "output_type": "execute_result"
    }
   ],
   "source": [
    "# df.fillna(method='ffill')\n",
    "df.ffill()"
   ]
  },
  {
   "cell_type": "code",
   "execution_count": 35,
   "id": "451bb157-f8a6-4dc5-8c1e-d0365d15b674",
   "metadata": {},
   "outputs": [
    {
     "data": {
      "text/html": [
       "<div>\n",
       "<style scoped>\n",
       "    .dataframe tbody tr th:only-of-type {\n",
       "        vertical-align: middle;\n",
       "    }\n",
       "\n",
       "    .dataframe tbody tr th {\n",
       "        vertical-align: top;\n",
       "    }\n",
       "\n",
       "    .dataframe thead th {\n",
       "        text-align: right;\n",
       "    }\n",
       "</style>\n",
       "<table border=\"1\" class=\"dataframe\">\n",
       "  <thead>\n",
       "    <tr style=\"text-align: right;\">\n",
       "      <th></th>\n",
       "      <th>A</th>\n",
       "      <th>B</th>\n",
       "      <th>C</th>\n",
       "      <th>D</th>\n",
       "    </tr>\n",
       "  </thead>\n",
       "  <tbody>\n",
       "    <tr>\n",
       "      <th>0</th>\n",
       "      <td>21.0</td>\n",
       "      <td>31</td>\n",
       "      <td>NaN</td>\n",
       "      <td>46.0</td>\n",
       "    </tr>\n",
       "    <tr>\n",
       "      <th>1</th>\n",
       "      <td>22.0</td>\n",
       "      <td>32</td>\n",
       "      <td>NaN</td>\n",
       "      <td>47.0</td>\n",
       "    </tr>\n",
       "    <tr>\n",
       "      <th>2</th>\n",
       "      <td>22.0</td>\n",
       "      <td>33</td>\n",
       "      <td>NaN</td>\n",
       "      <td>48.0</td>\n",
       "    </tr>\n",
       "    <tr>\n",
       "      <th>3</th>\n",
       "      <td>4.0</td>\n",
       "      <td>34</td>\n",
       "      <td>NaN</td>\n",
       "      <td>48.0</td>\n",
       "    </tr>\n",
       "    <tr>\n",
       "      <th>4</th>\n",
       "      <td>NaN</td>\n",
       "      <td>35</td>\n",
       "      <td>NaN</td>\n",
       "      <td>49.0</td>\n",
       "    </tr>\n",
       "  </tbody>\n",
       "</table>\n",
       "</div>"
      ],
      "text/plain": [
       "      A   B   C     D\n",
       "0  21.0  31 NaN  46.0\n",
       "1  22.0  32 NaN  47.0\n",
       "2  22.0  33 NaN  48.0\n",
       "3   4.0  34 NaN  48.0\n",
       "4   NaN  35 NaN  49.0"
      ]
     },
     "execution_count": 35,
     "metadata": {},
     "output_type": "execute_result"
    }
   ],
   "source": [
    "df.bfill()\n",
    "# df.fillna(method='bfill')"
   ]
  },
  {
   "cell_type": "code",
   "execution_count": 37,
   "id": "d654dd67-8007-4929-b3ff-663e5858d1d4",
   "metadata": {},
   "outputs": [
    {
     "data": {
      "text/html": [
       "<div>\n",
       "<style scoped>\n",
       "    .dataframe tbody tr th:only-of-type {\n",
       "        vertical-align: middle;\n",
       "    }\n",
       "\n",
       "    .dataframe tbody tr th {\n",
       "        vertical-align: top;\n",
       "    }\n",
       "\n",
       "    .dataframe thead th {\n",
       "        text-align: right;\n",
       "    }\n",
       "</style>\n",
       "<table border=\"1\" class=\"dataframe\">\n",
       "  <thead>\n",
       "    <tr style=\"text-align: right;\">\n",
       "      <th></th>\n",
       "      <th>A</th>\n",
       "      <th>B</th>\n",
       "      <th>C</th>\n",
       "      <th>D</th>\n",
       "    </tr>\n",
       "  </thead>\n",
       "  <tbody>\n",
       "    <tr>\n",
       "      <th>0</th>\n",
       "      <td>21.0</td>\n",
       "      <td>31</td>\n",
       "      <td>0.0</td>\n",
       "      <td>46.0</td>\n",
       "    </tr>\n",
       "    <tr>\n",
       "      <th>1</th>\n",
       "      <td>0.0</td>\n",
       "      <td>32</td>\n",
       "      <td>0.0</td>\n",
       "      <td>47.0</td>\n",
       "    </tr>\n",
       "    <tr>\n",
       "      <th>2</th>\n",
       "      <td>22.0</td>\n",
       "      <td>33</td>\n",
       "      <td>0.0</td>\n",
       "      <td>0.0</td>\n",
       "    </tr>\n",
       "    <tr>\n",
       "      <th>3</th>\n",
       "      <td>4.0</td>\n",
       "      <td>34</td>\n",
       "      <td>0.0</td>\n",
       "      <td>48.0</td>\n",
       "    </tr>\n",
       "    <tr>\n",
       "      <th>4</th>\n",
       "      <td>0.0</td>\n",
       "      <td>35</td>\n",
       "      <td>0.0</td>\n",
       "      <td>49.0</td>\n",
       "    </tr>\n",
       "  </tbody>\n",
       "</table>\n",
       "</div>"
      ],
      "text/plain": [
       "      A   B    C     D\n",
       "0  21.0  31  0.0  46.0\n",
       "1   0.0  32  0.0  47.0\n",
       "2  22.0  33  0.0   0.0\n",
       "3   4.0  34  0.0  48.0\n",
       "4   0.0  35  0.0  49.0"
      ]
     },
     "execution_count": 37,
     "metadata": {},
     "output_type": "execute_result"
    }
   ],
   "source": [
    "df.fillna(0)"
   ]
  },
  {
   "cell_type": "code",
   "execution_count": 43,
   "id": "387b25c2-ac37-4fe9-adf4-e64ad358ae05",
   "metadata": {},
   "outputs": [
    {
     "name": "stdout",
     "output_type": "stream",
     "text": [
      "      A   B   C     D\n",
      "0  21.0  31 NaN  46.0\n",
      "1   NaN  32 NaN  47.0\n",
      "2  22.0  33 NaN   NaN\n",
      "3   4.0  34 NaN  48.0\n",
      "4   NaN  35 NaN  49.0\n",
      "8\n",
      "      A   B   C     D\n",
      "0  21.0  31 NaN  46.0\n",
      "1  21.0  32 NaN  47.0\n",
      "2  22.0  33 NaN  47.0\n",
      "3   4.0  34 NaN  48.0\n",
      "4   4.0  35 NaN  49.0\n",
      "      A   B   C     D\n",
      "0  21.0  31 NaN  46.0\n",
      "1  22.0  32 NaN  47.0\n",
      "2  22.0  33 NaN  48.0\n",
      "3   4.0  34 NaN  48.0\n",
      "4   NaN  35 NaN  49.0\n",
      "      A   B    C     D\n",
      "0  21.0  31  0.0  46.0\n",
      "1   0.0  32  0.0  47.0\n",
      "2  22.0  33  0.0   0.0\n",
      "3   4.0  34  0.0  48.0\n",
      "4   0.0  35  0.0  49.0\n"
     ]
    }
   ],
   "source": [
    "import pandas as pd\n",
    "\n",
    "data_dic = { 'A':[21,None,22, 4,np.nan],\n",
    "                      'B':[31, 32, 33, 34, 35],\n",
    "                      'C':[np.nan,np.nan,np.nan,np.nan,np.nan],\n",
    "                      'D':[46, 47, np.nan, 48, 49]}\n",
    "df = pd.DataFrame(data_dic) \n",
    "\n",
    "df\n",
    "\n",
    "df.isna().sum().sum()\n",
    "\n",
    "df.ffill()\n",
    "\n",
    "df.bfill()\n",
    "\n",
    "df.fillna(0)"
   ]
  },
  {
   "cell_type": "code",
   "execution_count": 3,
   "id": "21a29b9a-5ee8-4d63-a9e1-b18f303c1e49",
   "metadata": {},
   "outputs": [
    {
     "data": {
      "text/plain": [
       "array([50.        , 50.1010101 , 50.2020202 , 50.3030303 , 50.4040404 ,\n",
       "       50.50505051, 50.60606061, 50.70707071, 50.80808081, 50.90909091,\n",
       "       51.01010101, 51.11111111, 51.21212121, 51.31313131, 51.41414141,\n",
       "       51.51515152, 51.61616162, 51.71717172, 51.81818182, 51.91919192,\n",
       "       52.02020202, 52.12121212, 52.22222222, 52.32323232, 52.42424242,\n",
       "       52.52525253, 52.62626263, 52.72727273, 52.82828283, 52.92929293,\n",
       "       53.03030303, 53.13131313, 53.23232323, 53.33333333, 53.43434343,\n",
       "       53.53535354, 53.63636364, 53.73737374, 53.83838384, 53.93939394,\n",
       "       54.04040404, 54.14141414, 54.24242424, 54.34343434, 54.44444444,\n",
       "       54.54545455, 54.64646465, 54.74747475, 54.84848485, 54.94949495,\n",
       "       55.05050505, 55.15151515, 55.25252525, 55.35353535, 55.45454545,\n",
       "       55.55555556, 55.65656566, 55.75757576, 55.85858586, 55.95959596,\n",
       "       56.06060606, 56.16161616, 56.26262626, 56.36363636, 56.46464646,\n",
       "       56.56565657, 56.66666667, 56.76767677, 56.86868687, 56.96969697,\n",
       "       57.07070707, 57.17171717, 57.27272727, 57.37373737, 57.47474747,\n",
       "       57.57575758, 57.67676768, 57.77777778, 57.87878788, 57.97979798,\n",
       "       58.08080808, 58.18181818, 58.28282828, 58.38383838, 58.48484848,\n",
       "       58.58585859, 58.68686869, 58.78787879, 58.88888889, 58.98989899,\n",
       "       59.09090909, 59.19191919, 59.29292929, 59.39393939, 59.49494949,\n",
       "       59.5959596 , 59.6969697 , 59.7979798 , 59.8989899 , 60.        ])"
      ]
     },
     "execution_count": 3,
     "metadata": {},
     "output_type": "execute_result"
    }
   ],
   "source": [
    "array = np.linspace(50, 60, 100)\n",
    "array"
   ]
  },
  {
   "cell_type": "code",
   "execution_count": 5,
   "id": "ac45a021-3754-4ed2-9b90-a0ff4e9a4fb9",
   "metadata": {},
   "outputs": [
    {
     "data": {
      "text/plain": [
       "array([[50.        , 50.1010101 , 50.2020202 , 50.3030303 , 50.4040404 ,\n",
       "        50.50505051, 50.60606061, 50.70707071, 50.80808081, 50.90909091],\n",
       "       [51.01010101, 51.11111111, 51.21212121, 51.31313131, 51.41414141,\n",
       "        51.51515152, 51.61616162, 51.71717172, 51.81818182, 51.91919192],\n",
       "       [52.02020202, 52.12121212, 52.22222222, 52.32323232, 52.42424242,\n",
       "        52.52525253, 52.62626263, 52.72727273, 52.82828283, 52.92929293],\n",
       "       [53.03030303, 53.13131313, 53.23232323, 53.33333333, 53.43434343,\n",
       "        53.53535354, 53.63636364, 53.73737374, 53.83838384, 53.93939394],\n",
       "       [54.04040404, 54.14141414, 54.24242424, 54.34343434, 54.44444444,\n",
       "        54.54545455, 54.64646465, 54.74747475, 54.84848485, 54.94949495],\n",
       "       [55.05050505, 55.15151515, 55.25252525, 55.35353535, 55.45454545,\n",
       "        55.55555556, 55.65656566, 55.75757576, 55.85858586, 55.95959596],\n",
       "       [56.06060606, 56.16161616, 56.26262626, 56.36363636, 56.46464646,\n",
       "        56.56565657, 56.66666667, 56.76767677, 56.86868687, 56.96969697],\n",
       "       [57.07070707, 57.17171717, 57.27272727, 57.37373737, 57.47474747,\n",
       "        57.57575758, 57.67676768, 57.77777778, 57.87878788, 57.97979798],\n",
       "       [58.08080808, 58.18181818, 58.28282828, 58.38383838, 58.48484848,\n",
       "        58.58585859, 58.68686869, 58.78787879, 58.88888889, 58.98989899],\n",
       "       [59.09090909, 59.19191919, 59.29292929, 59.39393939, 59.49494949,\n",
       "        59.5959596 , 59.6969697 , 59.7979798 , 59.8989899 , 60.        ]])"
      ]
     },
     "execution_count": 5,
     "metadata": {},
     "output_type": "execute_result"
    }
   ],
   "source": [
    "matrix = array.reshape(10, 10)\n",
    "matrix"
   ]
  },
  {
   "cell_type": "code",
   "execution_count": 7,
   "id": "bddcb838-070d-48dc-a45b-9f32fa649fc0",
   "metadata": {},
   "outputs": [
    {
     "data": {
      "text/plain": [
       "array([ True, False, False, False, False, False, False, False, False,\n",
       "       False, False, False, False, False, False, False, False, False,\n",
       "       False, False, False, False, False, False, False, False, False,\n",
       "       False, False, False, False, False, False, False, False, False,\n",
       "       False, False, False, False, False, False, False, False, False,\n",
       "       False, False, False, False, False, False, False, False, False,\n",
       "       False, False, False, False, False, False, False, False, False,\n",
       "       False, False, False, False, False, False, False, False, False,\n",
       "       False, False, False, False, False, False, False, False, False,\n",
       "       False, False, False, False, False, False, False, False, False,\n",
       "       False, False, False, False, False, False, False, False, False,\n",
       "        True])"
      ]
     },
     "execution_count": 7,
     "metadata": {},
     "output_type": "execute_result"
    }
   ],
   "source": [
    "result = array % 5 == 0\n",
    "result"
   ]
  },
  {
   "cell_type": "code",
   "execution_count": 9,
   "id": "fd6f2e7d-774d-4782-99e9-b0be62718b10",
   "metadata": {},
   "outputs": [],
   "source": [
    "df1 = pd.DataFrame({'key':['a','b','c','d','e',],\n",
    "                    'A1':range(5),\n",
    "                    'B1':range(5,10)})\n",
    "df2 = pd.DataFrame({'key': ['a', 'b', 'c'], \n",
    "                    'A2': range(3), \n",
    "                    'B2':range(3,6)})"
   ]
  },
  {
   "cell_type": "code",
   "execution_count": 11,
   "id": "6453b38d-618e-4767-baef-5a6f41caeec9",
   "metadata": {},
   "outputs": [
    {
     "data": {
      "text/html": [
       "<div>\n",
       "<style scoped>\n",
       "    .dataframe tbody tr th:only-of-type {\n",
       "        vertical-align: middle;\n",
       "    }\n",
       "\n",
       "    .dataframe tbody tr th {\n",
       "        vertical-align: top;\n",
       "    }\n",
       "\n",
       "    .dataframe thead th {\n",
       "        text-align: right;\n",
       "    }\n",
       "</style>\n",
       "<table border=\"1\" class=\"dataframe\">\n",
       "  <thead>\n",
       "    <tr style=\"text-align: right;\">\n",
       "      <th></th>\n",
       "      <th>key</th>\n",
       "      <th>A1</th>\n",
       "      <th>B1</th>\n",
       "    </tr>\n",
       "  </thead>\n",
       "  <tbody>\n",
       "    <tr>\n",
       "      <th>0</th>\n",
       "      <td>a</td>\n",
       "      <td>0</td>\n",
       "      <td>5</td>\n",
       "    </tr>\n",
       "    <tr>\n",
       "      <th>1</th>\n",
       "      <td>b</td>\n",
       "      <td>1</td>\n",
       "      <td>6</td>\n",
       "    </tr>\n",
       "    <tr>\n",
       "      <th>2</th>\n",
       "      <td>c</td>\n",
       "      <td>2</td>\n",
       "      <td>7</td>\n",
       "    </tr>\n",
       "    <tr>\n",
       "      <th>3</th>\n",
       "      <td>d</td>\n",
       "      <td>3</td>\n",
       "      <td>8</td>\n",
       "    </tr>\n",
       "    <tr>\n",
       "      <th>4</th>\n",
       "      <td>e</td>\n",
       "      <td>4</td>\n",
       "      <td>9</td>\n",
       "    </tr>\n",
       "  </tbody>\n",
       "</table>\n",
       "</div>"
      ],
      "text/plain": [
       "  key  A1  B1\n",
       "0   a   0   5\n",
       "1   b   1   6\n",
       "2   c   2   7\n",
       "3   d   3   8\n",
       "4   e   4   9"
      ]
     },
     "execution_count": 11,
     "metadata": {},
     "output_type": "execute_result"
    }
   ],
   "source": [
    "df1"
   ]
  },
  {
   "cell_type": "code",
   "execution_count": 13,
   "id": "a6e7f12d-be0d-4d94-bb67-5c42aa97e1cd",
   "metadata": {},
   "outputs": [
    {
     "data": {
      "text/html": [
       "<div>\n",
       "<style scoped>\n",
       "    .dataframe tbody tr th:only-of-type {\n",
       "        vertical-align: middle;\n",
       "    }\n",
       "\n",
       "    .dataframe tbody tr th {\n",
       "        vertical-align: top;\n",
       "    }\n",
       "\n",
       "    .dataframe thead th {\n",
       "        text-align: right;\n",
       "    }\n",
       "</style>\n",
       "<table border=\"1\" class=\"dataframe\">\n",
       "  <thead>\n",
       "    <tr style=\"text-align: right;\">\n",
       "      <th></th>\n",
       "      <th>key</th>\n",
       "      <th>A2</th>\n",
       "      <th>B2</th>\n",
       "    </tr>\n",
       "  </thead>\n",
       "  <tbody>\n",
       "    <tr>\n",
       "      <th>0</th>\n",
       "      <td>a</td>\n",
       "      <td>0</td>\n",
       "      <td>3</td>\n",
       "    </tr>\n",
       "    <tr>\n",
       "      <th>1</th>\n",
       "      <td>b</td>\n",
       "      <td>1</td>\n",
       "      <td>4</td>\n",
       "    </tr>\n",
       "    <tr>\n",
       "      <th>2</th>\n",
       "      <td>c</td>\n",
       "      <td>2</td>\n",
       "      <td>5</td>\n",
       "    </tr>\n",
       "  </tbody>\n",
       "</table>\n",
       "</div>"
      ],
      "text/plain": [
       "  key  A2  B2\n",
       "0   a   0   3\n",
       "1   b   1   4\n",
       "2   c   2   5"
      ]
     },
     "execution_count": 13,
     "metadata": {},
     "output_type": "execute_result"
    }
   ],
   "source": [
    "df2"
   ]
  },
  {
   "cell_type": "code",
   "execution_count": 1,
   "id": "3e377db7-471b-4e6d-9c7d-163322ab34bd",
   "metadata": {},
   "outputs": [
    {
     "name": "stdout",
     "output_type": "stream",
     "text": [
      "|--- Weather <= 0.50\n",
      "|   |--- class: 1\n",
      "|--- Weather >  0.50\n",
      "|   |--- class: 0\n",
      "\n"
     ]
    }
   ],
   "source": [
    "from sklearn.tree import DecisionTreeClassifier, export_text\n",
    "import pandas as pd\n",
    "\n",
    "# Define the dataset\n",
    "data = {\n",
    "    'Weather': ['Sunny', 'Sunny', 'Sunny', 'Sunny', 'Sunny', \n",
    "                'Rainy', 'Rainy', 'Rainy', 'Rainy', 'Rainy'],\n",
    "    'Humidity': ['Normal', 'Normal', 'Normal', 'High', 'High',\n",
    "                 'High', 'High', 'Low', 'Low', 'Low'],\n",
    "    'Wind': ['Weak', 'Weak', 'Strong', 'Weak', 'Strong',\n",
    "             'Strong', 'Weak', 'Weak', 'Strong', 'Weak'],\n",
    "    'Play': ['No', 'No', 'No', 'No', 'No', \n",
    "             'Yes', 'Yes', 'Yes', 'Yes', 'Yes']\n",
    "}\n",
    "\n",
    "# # Convert to DataFrame\n",
    "# df = pd.DataFrame(data)\n",
    "\n",
    "# # Encode categorical variables\n",
    "# from sklearn.preprocessing import LabelEncoder\n",
    "# le = LabelEncoder()\n",
    "\n",
    "# for col in ['Weather', 'Humidity', 'Wind', 'Play']:\n",
    "#     df[col] = le.fit_transform(df[col])\n",
    "\n",
    "# # Define features and target\n",
    "# X = df[['Weather', 'Humidity', 'Wind']]\n",
    "# y = df['Play']\n",
    "\n",
    "# # Create and train the decision tree\n",
    "# tree_clf = DecisionTreeClassifier(criterion='entropy')\n",
    "# tree_clf.fit(X, y)\n",
    "\n",
    "# # Print the decision tree\n",
    "# tree_rules = export_text(tree_clf, feature_names=['Weather', 'Humidity', 'Wind'])\n",
    "# print(tree_rules)\n"
   ]
  },
  {
   "cell_type": "code",
   "execution_count": 3,
   "id": "9dfc8b90-5c71-48c9-8833-29e2c85fce86",
   "metadata": {},
   "outputs": [
    {
     "data": {
      "text/plain": [
       "{'Weather': ['Sunny',\n",
       "  'Sunny',\n",
       "  'Sunny',\n",
       "  'Sunny',\n",
       "  'Sunny',\n",
       "  'Rainy',\n",
       "  'Rainy',\n",
       "  'Rainy',\n",
       "  'Rainy',\n",
       "  'Rainy'],\n",
       " 'Humidity': ['Normal',\n",
       "  'Normal',\n",
       "  'Normal',\n",
       "  'High',\n",
       "  'High',\n",
       "  'High',\n",
       "  'High',\n",
       "  'Low',\n",
       "  'Low',\n",
       "  'Low'],\n",
       " 'Wind': ['Weak',\n",
       "  'Weak',\n",
       "  'Strong',\n",
       "  'Weak',\n",
       "  'Strong',\n",
       "  'Strong',\n",
       "  'Weak',\n",
       "  'Weak',\n",
       "  'Strong',\n",
       "  'Weak'],\n",
       " 'Play': ['No', 'No', 'No', 'No', 'No', 'Yes', 'Yes', 'Yes', 'Yes', 'Yes']}"
      ]
     },
     "execution_count": 3,
     "metadata": {},
     "output_type": "execute_result"
    }
   ],
   "source": [
    "data"
   ]
  },
  {
   "cell_type": "code",
   "execution_count": 5,
   "id": "c7e2b5d5-4cb1-4499-9f46-0ca50aec33e1",
   "metadata": {},
   "outputs": [],
   "source": [
    "df = pd.DataFrame(data)"
   ]
  },
  {
   "cell_type": "code",
   "execution_count": 7,
   "id": "7b513b70-5c7c-428c-9d28-371a04f92d24",
   "metadata": {},
   "outputs": [
    {
     "data": {
      "text/html": [
       "<div>\n",
       "<style scoped>\n",
       "    .dataframe tbody tr th:only-of-type {\n",
       "        vertical-align: middle;\n",
       "    }\n",
       "\n",
       "    .dataframe tbody tr th {\n",
       "        vertical-align: top;\n",
       "    }\n",
       "\n",
       "    .dataframe thead th {\n",
       "        text-align: right;\n",
       "    }\n",
       "</style>\n",
       "<table border=\"1\" class=\"dataframe\">\n",
       "  <thead>\n",
       "    <tr style=\"text-align: right;\">\n",
       "      <th></th>\n",
       "      <th>Weather</th>\n",
       "      <th>Humidity</th>\n",
       "      <th>Wind</th>\n",
       "      <th>Play</th>\n",
       "    </tr>\n",
       "  </thead>\n",
       "  <tbody>\n",
       "    <tr>\n",
       "      <th>0</th>\n",
       "      <td>Sunny</td>\n",
       "      <td>Normal</td>\n",
       "      <td>Weak</td>\n",
       "      <td>No</td>\n",
       "    </tr>\n",
       "    <tr>\n",
       "      <th>1</th>\n",
       "      <td>Sunny</td>\n",
       "      <td>Normal</td>\n",
       "      <td>Weak</td>\n",
       "      <td>No</td>\n",
       "    </tr>\n",
       "    <tr>\n",
       "      <th>2</th>\n",
       "      <td>Sunny</td>\n",
       "      <td>Normal</td>\n",
       "      <td>Strong</td>\n",
       "      <td>No</td>\n",
       "    </tr>\n",
       "    <tr>\n",
       "      <th>3</th>\n",
       "      <td>Sunny</td>\n",
       "      <td>High</td>\n",
       "      <td>Weak</td>\n",
       "      <td>No</td>\n",
       "    </tr>\n",
       "    <tr>\n",
       "      <th>4</th>\n",
       "      <td>Sunny</td>\n",
       "      <td>High</td>\n",
       "      <td>Strong</td>\n",
       "      <td>No</td>\n",
       "    </tr>\n",
       "    <tr>\n",
       "      <th>5</th>\n",
       "      <td>Rainy</td>\n",
       "      <td>High</td>\n",
       "      <td>Strong</td>\n",
       "      <td>Yes</td>\n",
       "    </tr>\n",
       "    <tr>\n",
       "      <th>6</th>\n",
       "      <td>Rainy</td>\n",
       "      <td>High</td>\n",
       "      <td>Weak</td>\n",
       "      <td>Yes</td>\n",
       "    </tr>\n",
       "    <tr>\n",
       "      <th>7</th>\n",
       "      <td>Rainy</td>\n",
       "      <td>Low</td>\n",
       "      <td>Weak</td>\n",
       "      <td>Yes</td>\n",
       "    </tr>\n",
       "    <tr>\n",
       "      <th>8</th>\n",
       "      <td>Rainy</td>\n",
       "      <td>Low</td>\n",
       "      <td>Strong</td>\n",
       "      <td>Yes</td>\n",
       "    </tr>\n",
       "    <tr>\n",
       "      <th>9</th>\n",
       "      <td>Rainy</td>\n",
       "      <td>Low</td>\n",
       "      <td>Weak</td>\n",
       "      <td>Yes</td>\n",
       "    </tr>\n",
       "  </tbody>\n",
       "</table>\n",
       "</div>"
      ],
      "text/plain": [
       "  Weather Humidity    Wind Play\n",
       "0   Sunny   Normal    Weak   No\n",
       "1   Sunny   Normal    Weak   No\n",
       "2   Sunny   Normal  Strong   No\n",
       "3   Sunny     High    Weak   No\n",
       "4   Sunny     High  Strong   No\n",
       "5   Rainy     High  Strong  Yes\n",
       "6   Rainy     High    Weak  Yes\n",
       "7   Rainy      Low    Weak  Yes\n",
       "8   Rainy      Low  Strong  Yes\n",
       "9   Rainy      Low    Weak  Yes"
      ]
     },
     "execution_count": 7,
     "metadata": {},
     "output_type": "execute_result"
    }
   ],
   "source": [
    "df"
   ]
  },
  {
   "cell_type": "code",
   "execution_count": 9,
   "id": "f1804b69-4a36-4f6c-98c1-c0223e40ced5",
   "metadata": {},
   "outputs": [],
   "source": [
    "df['Humidity']= df['Humidity'].map({'High':0,'Normal':1,'Low':2})\n",
    "df['Play'] = df['Play'].map({'No':0, 'Yes':1})"
   ]
  },
  {
   "cell_type": "code",
   "execution_count": 11,
   "id": "b1c0b31a-76a7-45d8-b7ab-9a11cc00ac74",
   "metadata": {},
   "outputs": [],
   "source": [
    "X = df[['Humidity']]\n",
    "y = df['Play']"
   ]
  },
  {
   "cell_type": "code",
   "execution_count": null,
   "id": "a00c90d2-add4-4b1f-b86c-5ecfaa0d6090",
   "metadata": {},
   "outputs": [],
   "source": []
  }
 ],
 "metadata": {
  "kernelspec": {
   "display_name": "Python 3 (ipykernel)",
   "language": "python",
   "name": "python3"
  },
  "language_info": {
   "codemirror_mode": {
    "name": "ipython",
    "version": 3
   },
   "file_extension": ".py",
   "mimetype": "text/x-python",
   "name": "python",
   "nbconvert_exporter": "python",
   "pygments_lexer": "ipython3",
   "version": "3.12.7"
  }
 },
 "nbformat": 4,
 "nbformat_minor": 5
}
